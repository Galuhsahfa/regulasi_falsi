{
  "nbformat": 4,
  "nbformat_minor": 0,
  "metadata": {
    "colab": {
      "provenance": [],
      "authorship_tag": "ABX9TyNIeXeY9VcvklMhUH8Ata9Q",
      "include_colab_link": true
    },
    "kernelspec": {
      "name": "python3",
      "display_name": "Python 3"
    },
    "language_info": {
      "name": "python"
    }
  },
  "cells": [
    {
      "cell_type": "markdown",
      "metadata": {
        "id": "view-in-github",
        "colab_type": "text"
      },
      "source": [
        "<a href=\"https://colab.research.google.com/github/Galuhsahfa/regulasi_falsi/blob/main/metode_regulasi_falsi_py.ipynb\" target=\"_parent\"><img src=\"https://colab.research.google.com/assets/colab-badge.svg\" alt=\"Open In Colab\"/></a>"
      ]
    },
    {
      "cell_type": "code",
      "execution_count": null,
      "metadata": {
        "id": "6ceZZ1VUD2Y7"
      },
      "outputs": [],
      "source": [
        "import math\n",
        "import numpy as np\n",
        "\n",
        "\n",
        "def f(x):\n",
        "    f = math.pow(x, 2) - 6 * x + 5\n",
        "    return f\n",
        "\n",
        "\n",
        "def regulaFalsi(a, b, toleransi, n):\n",
        "    i = 0\n",
        "    fa = f(a)\n",
        "\n",
        "    print(\"-------------------------------------------------------------------------------------------------------\")\n",
        "    print(\"%-20s %-20s %-20s %-20s %-20s\" % (\"n\", \"a\", \"b\", \"x\", \"f(x)/toleransi\"))\n",
        "    print(\"-------------------------------------------------------------------------------------------------------\")\n",
        "\n",
        "    # Dilakukan iterasi sampai dengan n yang diinginkan\n",
        "    while (i <= n):\n",
        "        x = (a * f(b) - b * f(a)) / (f(b) - f(a))\n",
        "        fx = f(x)\n",
        "        i += 1\n",
        "\n",
        "        # Jika f(x) = 0 atau akar telah ditemukan program akan berhenti.\n",
        "        # Jika |f(x)| < angka toleransi program akan berhenti. Artinya nilai toleransi/error telah dicapai.\n",
        "        if (fx == 0 or np.abs(f(x)) < toleransi):\n",
        "            print(f\"\\nNilai x didapatkan pada saat iterasi ke {i - 1}, dengan nilai x = {round(x)}\")\n",
        "            break\n",
        "        # Jika tidak maka iterasi akan terus berjalan sampai keadaan di atas.\n",
        "        else:\n",
        "            print(\"%-20.8g %-20.8g %-20.8g %-20.8g %-20.8g\\n\" % (i, a, b, x, f(x)))\n",
        "\n",
        "        # Syarat metode tertutup, pada kasus ini Regula Falsi\n",
        "        if (fa * fx > 0):\n",
        "            a = x\n",
        "        else:\n",
        "            b = x\n",
        "    return\n",
        "\n",
        "\n",
        "regulaFalsi(3, 6, 0.001, 10)"
      ]
    }
  ]
}